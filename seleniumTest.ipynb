{
 "cells": [
  {
   "cell_type": "code",
   "execution_count": 1,
   "metadata": {
    "collapsed": true,
    "ExecuteTime": {
     "end_time": "2023-05-29T02:21:24.105031500Z",
     "start_time": "2023-05-29T02:21:24.100029600Z"
    }
   },
   "outputs": [],
   "source": [
    "#pip install selenium\n",
    "#pip install webdriver-manager\n",
    "#Usar o Chrome ou Firefox - Chrome pode gerar menos erros\n",
    "#Driver do mozila -> GeckoDriverManager\n",
    "#Driver do Chrome -> ChromeDriverManager"
   ]
  },
  {
   "cell_type": "markdown",
   "source": [],
   "metadata": {
    "collapsed": false
   }
  },
  {
   "cell_type": "code",
   "execution_count": 21,
   "outputs": [],
   "source": [
    "#Configuração inicial\n",
    "from selenium import webdriver\n",
    "from webdriver_manager.firefox import GeckoDriverManager #pega o driver atual\n",
    "from selenium.webdriver.firefox.service import Service #executa o menager\n",
    "\n",
    "servico = Service(GeckoDriverManager().install()) # instala o driver do mozila atual\n",
    "\n",
    "navegador = webdriver.Firefox(service=servico)\n"
   ],
   "metadata": {
    "collapsed": false,
    "ExecuteTime": {
     "end_time": "2023-05-29T04:29:53.135451600Z",
     "start_time": "2023-05-29T04:29:45.299888700Z"
    }
   }
  },
  {
   "cell_type": "code",
   "execution_count": 22,
   "outputs": [],
   "source": [
    "#entra na url que deseja; obs: o link precisa ser completo com https://\n",
    "navegador.get(\"https://pages.hashtagtreinamentos.com/inscricao-minicurso-python-automacao-org?origemurl=hashtag_yt_org_minipython_8AMNaVt0z_M\")\n",
    "\n",
    "#preenche os campos\n",
    "navegador.find_element('xpath', '/html/body/div[2]/div[1]/section/div[2]/div/div[2]/form/div[1]/div/div[1]/div/input').send_keys(\"Raphael Alcantara\")#nome\n",
    "navegador.find_element('xpath', '/html/body/div[2]/div[1]/section/div[2]/div/div[2]/form/div[1]/div/div[2]/div/input').send_keys(\"raphaelvictor40@gmail.com\")#email\n",
    "navegador.find_element('xpath', '/html/body/div[2]/div[1]/section/div[2]/div/div[2]/form/div[1]/div/div[3]/div/input').send_keys(\"81997901217\")#telefone\n",
    "\n",
    "#Clica no botão\n",
    "navegador.find_element('xpath', '/html/body/div[2]/div[1]/section/div[2]/div/div[2]/form/button').click()\n",
    "\n",
    "#fecha o navegador\n",
    "navegador.quit()"
   ],
   "metadata": {
    "collapsed": false,
    "ExecuteTime": {
     "end_time": "2023-05-29T04:30:58.761821300Z",
     "start_time": "2023-05-29T04:30:49.551738600Z"
    }
   }
  },
  {
   "cell_type": "code",
   "execution_count": 19,
   "outputs": [],
   "source": [
    "#limpa campos caso necessário\n",
    "# navegador.find_element('xpath', '/html/body/div[2]/div[1]/section/div[2]/div/div[2]/form/div[1]/div/div[1]/div/input').clear()\n",
    "# navegador.find_element('xpath', '/html/body/div[2]/div[1]/section/div[2]/div/div[2]/form/div[1]/div/div[2]/div/input').clear()\n",
    "# navegador.find_element('xpath', '/html/body/div[2]/div[1]/section/div[2]/div/div[2]/form/div[1]/div/div[3]/div/input').clear()\n"
   ],
   "metadata": {
    "collapsed": false,
    "ExecuteTime": {
     "end_time": "2023-05-29T04:27:46.908532800Z",
     "start_time": "2023-05-29T04:27:46.836518Z"
    }
   }
  }
 ],
 "metadata": {
  "kernelspec": {
   "display_name": "Python 3",
   "language": "python",
   "name": "python3"
  },
  "language_info": {
   "codemirror_mode": {
    "name": "ipython",
    "version": 2
   },
   "file_extension": ".py",
   "mimetype": "text/x-python",
   "name": "python",
   "nbconvert_exporter": "python",
   "pygments_lexer": "ipython2",
   "version": "2.7.6"
  }
 },
 "nbformat": 4,
 "nbformat_minor": 0
}
