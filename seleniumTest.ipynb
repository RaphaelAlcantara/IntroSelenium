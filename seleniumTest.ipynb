{
 "cells": [
  {
   "cell_type": "code",
   "execution_count": 1,
   "metadata": {
    "collapsed": true,
    "ExecuteTime": {
     "end_time": "2023-05-29T02:21:24.105031500Z",
     "start_time": "2023-05-29T02:21:24.100029600Z"
    }
   },
   "outputs": [],
   "source": [
    "#pip install selenium\n",
    "#pip install webdriver-manager\n",
    "#Usar o Chrome ou Firefox - Chrome pode gerar menos erros\n",
    "#Driver do mozila -> GeckoDriverManager\n",
    "#Driver do Chrome -> ChromeDriverManager"
   ]
  },
  {
   "cell_type": "markdown",
   "source": [],
   "metadata": {
    "collapsed": false
   }
  },
  {
   "cell_type": "code",
   "execution_count": 6,
   "outputs": [],
   "source": [
    "#Configuração inicial\n",
    "from selenium import webdriver\n",
    "from webdriver_manager.firefox import GeckoDriverManager #pega o driver atual\n",
    "from selenium.webdriver.firefox.service import Service #executa o menager\n",
    "\n",
    "servico = Service(GeckoDriverManager().install()) # instale o driver do mozila atual\n",
    "\n",
    "navegador = webdriver.Firefox(service=servico)\n"
   ],
   "metadata": {
    "collapsed": false,
    "ExecuteTime": {
     "end_time": "2023-05-29T03:32:42.370905100Z",
     "start_time": "2023-05-29T03:32:34.579324600Z"
    }
   }
  },
  {
   "cell_type": "code",
   "execution_count": null,
   "outputs": [],
   "source": [],
   "metadata": {
    "collapsed": false
   }
  }
 ],
 "metadata": {
  "kernelspec": {
   "display_name": "Python 3",
   "language": "python",
   "name": "python3"
  },
  "language_info": {
   "codemirror_mode": {
    "name": "ipython",
    "version": 2
   },
   "file_extension": ".py",
   "mimetype": "text/x-python",
   "name": "python",
   "nbconvert_exporter": "python",
   "pygments_lexer": "ipython2",
   "version": "2.7.6"
  }
 },
 "nbformat": 4,
 "nbformat_minor": 0
}
